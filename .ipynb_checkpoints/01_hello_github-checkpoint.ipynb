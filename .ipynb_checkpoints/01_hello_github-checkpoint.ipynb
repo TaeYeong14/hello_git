{
 "cells": [
  {
   "cell_type": "code",
   "execution_count": 1,
   "id": "fe41b3d5",
   "metadata": {},
   "outputs": [
    {
     "name": "stdout",
     "output_type": "stream",
     "text": [
      "hello github\n"
     ]
    }
   ],
   "source": [
    "# upload test\n",
    "print(\"hello github\")"
   ]
  },
  {
   "cell_type": "code",
   "execution_count": null,
   "id": "2c2a5cd0",
   "metadata": {},
   "outputs": [],
   "source": []
  }
 ],
 "metadata": {
  "kernelspec": {
   "display_name": "Python 3",
   "language": "python",
   "name": "python3"
  },
  "language_info": {
   "codemirror_mode": {
    "name": "ipython",
    "version": 3
   },
   "file_extension": ".py",
   "mimetype": "text/x-python",
   "name": "python",
   "nbconvert_exporter": "python",
   "pygments_lexer": "ipython3",
   "version": "3.8.8"
  }
 },
 "nbformat": 4,
 "nbformat_minor": 5
}
